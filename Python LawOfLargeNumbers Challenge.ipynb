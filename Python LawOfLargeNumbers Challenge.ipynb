{
 "cells": [
  {
   "cell_type": "markdown",
   "metadata": {},
   "source": [
    "Prove the following statement: increasing the number of the sample will make sample mean converge to data set mean."
   ]
  },
  {
   "cell_type": "code",
   "execution_count": 3,
   "metadata": {},
   "outputs": [],
   "source": [
    "import numpy as np\n",
    "from numpy.random import randn"
   ]
  },
  {
   "cell_type": "code",
   "execution_count": 4,
   "metadata": {},
   "outputs": [
    {
     "name": "stdout",
     "output_type": "stream",
     "text": [
      "100\n",
      "0.6\n"
     ]
    }
   ],
   "source": [
    "N = 100\n",
    "x = 0\n",
    "for i in randn(N):\n",
    "    if -1 <= i <= 1:\n",
    "        x += 1\n",
    "mean = x / N\n",
    "print(N)\n",
    "print(mean)"
   ]
  },
  {
   "cell_type": "code",
   "execution_count": 7,
   "metadata": {},
   "outputs": [
    {
     "name": "stdout",
     "output_type": "stream",
     "text": [
      "1000\n",
      "0.687\n"
     ]
    }
   ],
   "source": [
    "N = 1000\n",
    "x = 0\n",
    "for i in randn(N):\n",
    "    if -1 <= i <= 1:\n",
    "        x += 1\n",
    "mean = x / N\n",
    "print(N)\n",
    "print(mean)"
   ]
  },
  {
   "cell_type": "code",
   "execution_count": 8,
   "metadata": {},
   "outputs": [
    {
     "name": "stdout",
     "output_type": "stream",
     "text": [
      "10000\n",
      "0.6859\n"
     ]
    }
   ],
   "source": [
    "N = 10000\n",
    "x = 0\n",
    "for i in randn(N):\n",
    "    if -1 <= i <= 1:\n",
    "        x += 1\n",
    "mean = x / N\n",
    "print(N)\n",
    "print(mean)"
   ]
  },
  {
   "cell_type": "code",
   "execution_count": null,
   "metadata": {},
   "outputs": [],
   "source": []
  }
 ],
 "metadata": {
  "kernelspec": {
   "display_name": "Python 3",
   "language": "python",
   "name": "python3"
  },
  "language_info": {
   "codemirror_mode": {
    "name": "ipython",
    "version": 3
   },
   "file_extension": ".py",
   "mimetype": "text/x-python",
   "name": "python",
   "nbconvert_exporter": "python",
   "pygments_lexer": "ipython3",
   "version": "3.7.3"
  }
 },
 "nbformat": 4,
 "nbformat_minor": 2
}
